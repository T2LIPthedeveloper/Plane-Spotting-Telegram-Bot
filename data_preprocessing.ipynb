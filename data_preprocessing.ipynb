{
 "cells": [
  {
   "cell_type": "markdown",
   "metadata": {},
   "source": [
    "Image Preprocessing"
   ]
  },
  {
   "cell_type": "code",
   "execution_count": null,
   "metadata": {},
   "outputs": [],
   "source": [
    "import cv2\n",
    "import imghdr\n",
    "import matplotlib.pyplot as plt"
   ]
  },
  {
   "cell_type": "code",
   "execution_count": null,
   "metadata": {},
   "outputs": [],
   "source": [
    "data_dir = 'data/'"
   ]
  },
  {
   "cell_type": "code",
   "execution_count": null,
   "metadata": {},
   "outputs": [],
   "source": [
    "def split_dir_to_train_test_val(directory = data_dir,\n",
    "                            train_size = 0.7,\n",
    "                            test_size = 0.2,\n",
    "                            val_size = 0.1):\n",
    "  \"\"\"\n",
    "  Creates 3 folders for Train, Test and Validation data\n",
    "  \"\"\"\n",
    "  import os\n",
    "  import random\n",
    "  import shutil\n",
    "\n",
    "  # Set random seed\n",
    "  rng = random.Random(42)\n",
    "\n",
    "  for root, folders, files in os.walk(directory):\n",
    "    for folder in folders:\n",
    "      # Create list of the files\n",
    "      list_of_files = []\n",
    "      for file_name in os.listdir(root+folder+\"/\"):\n",
    "        list_of_files.append(file_name)\n",
    "\n",
    "      #  Shuffle the list\n",
    "      rng.shuffle(list_of_files)\n",
    "\n",
    "      # Create lists of files\n",
    "      train_files = list_of_files[:int(len(list_of_files)*train_size)]\n",
    "      test_files = list_of_files[int(len(list_of_files)*train_size) : int(len(list_of_files)*(train_size+test_size))]\n",
    "      val_files = list_of_files[int(len(list_of_files)*(train_size+test_size)):]\n",
    "\n",
    "      # Create folders and files for train data\n",
    "      for one_file in train_files:\n",
    "\n",
    "        # Copy  files\n",
    "        dest_dir = \"files/train/\"+folder+\"/\"\n",
    "        os.makedirs(dest_dir, exist_ok=True)\n",
    "\n",
    "        shutil.copy2(src=(root+folder+\"/\"+one_file),\n",
    "                    dst=(dest_dir+one_file))\n",
    "      print(f\"Folder {folder}. Train data copied. {len(train_files)} files\")\n",
    "\n",
    "      # Create folders and files for test data\n",
    "      for one_file in test_files:\n",
    "        # Copy  files\n",
    "        dest_dir = \"files/test/\"+folder+\"/\"\n",
    "        os.makedirs(dest_dir, exist_ok=True)\n",
    "\n",
    "        shutil.copy2(src=(root+folder+\"/\"+one_file),\n",
    "                    dst=(dest_dir+one_file))\n",
    "      print(f\"Folder {folder}. Test data copied. {len(test_files)} files\")\n",
    "\n",
    "      # Create folders and files for validation data\n",
    "      for one_file in val_files:\n",
    "\n",
    "        # Copy  files\n",
    "        dest_dir = \"files/validation/\"+folder+\"/\"\n",
    "        os.makedirs(dest_dir, exist_ok=True)\n",
    "\n",
    "        shutil.copy2(src=(root+folder+\"/\"+one_file),\n",
    "                    dst=(dest_dir+one_file))\n",
    "      print(f\"Folder {folder}. Validation data copied. {len(val_files)} files\")\n",
    "\n",
    "\n",
    "\n",
    "\n",
    "def get_class_names_from_folder(directory):\n",
    "  \"\"\"\n",
    "  Get the classnames from train folder for example\n",
    "  \"\"\"\n",
    "  import pathlib\n",
    "  import numpy as np\n",
    "  data_dir = pathlib.Path(directory)\n",
    "  class_names = np.array(sorted([item.name for item in data_dir.glob(\"*\")])) # Created a list of class names\n",
    "  return class_names\n",
    "  print(class_names)"
   ]
  },
  {
   "cell_type": "code",
   "execution_count": 16,
   "metadata": {},
   "outputs": [
    {
     "name": "stdout",
     "output_type": "stream",
     "text": [
      "Folder 707-320. Train data copied. 70 files\n",
      "Folder 707-320. Test data copied. 19 files\n",
      "Folder 707-320. Validation data copied. 11 files\n",
      "Folder 727-200. Train data copied. 70 files\n",
      "Folder 727-200. Test data copied. 19 files\n",
      "Folder 727-200. Validation data copied. 11 files\n",
      "Folder 737-200. Train data copied. 70 files\n",
      "Folder 737-200. Test data copied. 19 files\n",
      "Folder 737-200. Validation data copied. 11 files\n",
      "Folder 737-300. Train data copied. 70 files\n",
      "Folder 737-300. Test data copied. 19 files\n",
      "Folder 737-300. Validation data copied. 11 files\n",
      "Folder 737-400. Train data copied. 70 files\n",
      "Folder 737-400. Test data copied. 19 files\n",
      "Folder 737-400. Validation data copied. 11 files\n",
      "Folder 737-500. Train data copied. 70 files\n",
      "Folder 737-500. Test data copied. 19 files\n",
      "Folder 737-500. Validation data copied. 11 files\n",
      "Folder 737-600. Train data copied. 70 files\n",
      "Folder 737-600. Test data copied. 19 files\n",
      "Folder 737-600. Validation data copied. 11 files\n",
      "Folder 737-700. Train data copied. 70 files\n",
      "Folder 737-700. Test data copied. 19 files\n",
      "Folder 737-700. Validation data copied. 11 files\n",
      "Folder 737-8. Train data copied. 69 files\n",
      "Folder 737-8. Test data copied. 20 files\n",
      "Folder 737-8. Validation data copied. 10 files\n",
      "Folder 737-800. Train data copied. 70 files\n",
      "Folder 737-800. Test data copied. 19 files\n",
      "Folder 737-800. Validation data copied. 11 files\n",
      "Folder 737-9. Train data copied. 69 files\n",
      "Folder 737-9. Test data copied. 20 files\n",
      "Folder 737-9. Validation data copied. 10 files\n",
      "Folder 737-900. Train data copied. 70 files\n",
      "Folder 737-900. Test data copied. 19 files\n",
      "Folder 737-900. Validation data copied. 11 files\n",
      "Folder 747-100. Train data copied. 70 files\n",
      "Folder 747-100. Test data copied. 19 files\n",
      "Folder 747-100. Validation data copied. 11 files\n",
      "Folder 747-200. Train data copied. 70 files\n",
      "Folder 747-200. Test data copied. 19 files\n",
      "Folder 747-200. Validation data copied. 11 files\n",
      "Folder 747-300. Train data copied. 70 files\n",
      "Folder 747-300. Test data copied. 19 files\n",
      "Folder 747-300. Validation data copied. 11 files\n",
      "Folder 747-400. Train data copied. 70 files\n",
      "Folder 747-400. Test data copied. 19 files\n",
      "Folder 747-400. Validation data copied. 11 files\n",
      "Folder 747-8. Train data copied. 70 files\n",
      "Folder 747-8. Test data copied. 19 files\n",
      "Folder 747-8. Validation data copied. 11 files\n",
      "Folder 757-200. Train data copied. 70 files\n",
      "Folder 757-200. Test data copied. 19 files\n",
      "Folder 757-200. Validation data copied. 11 files\n",
      "Folder 757-300. Train data copied. 70 files\n",
      "Folder 757-300. Test data copied. 19 files\n",
      "Folder 757-300. Validation data copied. 11 files\n",
      "Folder 767-200. Train data copied. 70 files\n",
      "Folder 767-200. Test data copied. 19 files\n",
      "Folder 767-200. Validation data copied. 11 files\n",
      "Folder 767-300. Train data copied. 70 files\n",
      "Folder 767-300. Test data copied. 19 files\n",
      "Folder 767-300. Validation data copied. 11 files\n",
      "Folder 767-400. Train data copied. 70 files\n",
      "Folder 767-400. Test data copied. 19 files\n",
      "Folder 767-400. Validation data copied. 11 files\n",
      "Folder 777-200. Train data copied. 70 files\n",
      "Folder 777-200. Test data copied. 19 files\n",
      "Folder 777-200. Validation data copied. 11 files\n",
      "Folder 777-300. Train data copied. 70 files\n",
      "Folder 777-300. Test data copied. 19 files\n",
      "Folder 777-300. Validation data copied. 11 files\n",
      "Folder 777-9. Train data copied. 0 files\n",
      "Folder 777-9. Test data copied. 0 files\n",
      "Folder 777-9. Validation data copied. 0 files\n",
      "Folder 787-10. Train data copied. 70 files\n",
      "Folder 787-10. Test data copied. 19 files\n",
      "Folder 787-10. Validation data copied. 11 files\n",
      "Folder 787-8. Train data copied. 70 files\n",
      "Folder 787-8. Test data copied. 19 files\n",
      "Folder 787-8. Validation data copied. 11 files\n",
      "Folder 787-9. Train data copied. 70 files\n",
      "Folder 787-9. Test data copied. 19 files\n",
      "Folder 787-9. Validation data copied. 11 files\n",
      "Folder A300B4. Train data copied. 70 files\n",
      "Folder A300B4. Test data copied. 19 files\n",
      "Folder A300B4. Validation data copied. 11 files\n",
      "Folder A310. Train data copied. 70 files\n",
      "Folder A310. Test data copied. 19 files\n",
      "Folder A310. Validation data copied. 11 files\n",
      "Folder A318. Train data copied. 70 files\n",
      "Folder A318. Test data copied. 19 files\n",
      "Folder A318. Validation data copied. 11 files\n"
     ]
    },
    {
     "ename": "FileNotFoundError",
     "evalue": "[WinError 2] The system cannot find the file specified: 'files/train/A319/1879116.jpg'",
     "output_type": "error",
     "traceback": [
      "\u001b[1;31m---------------------------------------------------------------------------\u001b[0m",
      "\u001b[1;31mFileNotFoundError\u001b[0m                         Traceback (most recent call last)",
      "Cell \u001b[1;32mIn[16], line 1\u001b[0m\n\u001b[1;32m----> 1\u001b[0m \u001b[43msplit_dir_to_train_test_val\u001b[49m\u001b[43m(\u001b[49m\u001b[43mdirectory\u001b[49m\u001b[38;5;241;43m=\u001b[39;49m\u001b[43mdata_dir\u001b[49m\u001b[43m,\u001b[49m\n\u001b[0;32m      2\u001b[0m \u001b[43m                            \u001b[49m\u001b[43mtrain_size\u001b[49m\u001b[38;5;241;43m=\u001b[39;49m\u001b[38;5;241;43m0.7\u001b[39;49m\u001b[43m,\u001b[49m\n\u001b[0;32m      3\u001b[0m \u001b[43m                            \u001b[49m\u001b[43mtest_size\u001b[49m\u001b[38;5;241;43m=\u001b[39;49m\u001b[38;5;241;43m0.2\u001b[39;49m\u001b[43m,\u001b[49m\n\u001b[0;32m      4\u001b[0m \u001b[43m                            \u001b[49m\u001b[43mval_size\u001b[49m\u001b[38;5;241;43m=\u001b[39;49m\u001b[38;5;241;43m0.1\u001b[39;49m\u001b[43m)\u001b[49m\n",
      "Cell \u001b[1;32mIn[15], line 37\u001b[0m, in \u001b[0;36msplit_dir_to_train_test_val\u001b[1;34m(directory, train_size, test_size, val_size)\u001b[0m\n\u001b[0;32m     34\u001b[0m   dest_dir \u001b[38;5;241m=\u001b[39m \u001b[38;5;124m\"\u001b[39m\u001b[38;5;124mfiles/train/\u001b[39m\u001b[38;5;124m\"\u001b[39m\u001b[38;5;241m+\u001b[39mfolder\u001b[38;5;241m+\u001b[39m\u001b[38;5;124m\"\u001b[39m\u001b[38;5;124m/\u001b[39m\u001b[38;5;124m\"\u001b[39m\n\u001b[0;32m     35\u001b[0m   os\u001b[38;5;241m.\u001b[39mmakedirs(dest_dir, exist_ok\u001b[38;5;241m=\u001b[39m\u001b[38;5;28;01mTrue\u001b[39;00m)\n\u001b[1;32m---> 37\u001b[0m   \u001b[43mshutil\u001b[49m\u001b[38;5;241;43m.\u001b[39;49m\u001b[43mcopy2\u001b[49m\u001b[43m(\u001b[49m\u001b[43msrc\u001b[49m\u001b[38;5;241;43m=\u001b[39;49m\u001b[43m(\u001b[49m\u001b[43mroot\u001b[49m\u001b[38;5;241;43m+\u001b[39;49m\u001b[43mfolder\u001b[49m\u001b[38;5;241;43m+\u001b[39;49m\u001b[38;5;124;43m\"\u001b[39;49m\u001b[38;5;124;43m/\u001b[39;49m\u001b[38;5;124;43m\"\u001b[39;49m\u001b[38;5;241;43m+\u001b[39;49m\u001b[43mone_file\u001b[49m\u001b[43m)\u001b[49m\u001b[43m,\u001b[49m\n\u001b[0;32m     38\u001b[0m \u001b[43m              \u001b[49m\u001b[43mdst\u001b[49m\u001b[38;5;241;43m=\u001b[39;49m\u001b[43m(\u001b[49m\u001b[43mdest_dir\u001b[49m\u001b[38;5;241;43m+\u001b[39;49m\u001b[43mone_file\u001b[49m\u001b[43m)\u001b[49m\u001b[43m)\u001b[49m\n\u001b[0;32m     39\u001b[0m \u001b[38;5;28mprint\u001b[39m(\u001b[38;5;124mf\u001b[39m\u001b[38;5;124m\"\u001b[39m\u001b[38;5;124mFolder \u001b[39m\u001b[38;5;132;01m{\u001b[39;00mfolder\u001b[38;5;132;01m}\u001b[39;00m\u001b[38;5;124m. Train data copied. \u001b[39m\u001b[38;5;132;01m{\u001b[39;00m\u001b[38;5;28mlen\u001b[39m(train_files)\u001b[38;5;132;01m}\u001b[39;00m\u001b[38;5;124m files\u001b[39m\u001b[38;5;124m\"\u001b[39m)\n\u001b[0;32m     41\u001b[0m \u001b[38;5;66;03m# Create folders and files for test data\u001b[39;00m\n",
      "File \u001b[1;32mc:\\Users\\atulp\\anaconda3\\envs\\TFModel\\lib\\shutil.py:445\u001b[0m, in \u001b[0;36mcopy2\u001b[1;34m(src, dst, follow_symlinks)\u001b[0m\n\u001b[0;32m    443\u001b[0m     dst \u001b[38;5;241m=\u001b[39m os\u001b[38;5;241m.\u001b[39mpath\u001b[38;5;241m.\u001b[39mjoin(dst, os\u001b[38;5;241m.\u001b[39mpath\u001b[38;5;241m.\u001b[39mbasename(src))\n\u001b[0;32m    444\u001b[0m copyfile(src, dst, follow_symlinks\u001b[38;5;241m=\u001b[39mfollow_symlinks)\n\u001b[1;32m--> 445\u001b[0m \u001b[43mcopystat\u001b[49m\u001b[43m(\u001b[49m\u001b[43msrc\u001b[49m\u001b[43m,\u001b[49m\u001b[43m \u001b[49m\u001b[43mdst\u001b[49m\u001b[43m,\u001b[49m\u001b[43m \u001b[49m\u001b[43mfollow_symlinks\u001b[49m\u001b[38;5;241;43m=\u001b[39;49m\u001b[43mfollow_symlinks\u001b[49m\u001b[43m)\u001b[49m\n\u001b[0;32m    446\u001b[0m \u001b[38;5;28;01mreturn\u001b[39;00m dst\n",
      "File \u001b[1;32mc:\\Users\\atulp\\anaconda3\\envs\\TFModel\\lib\\shutil.py:384\u001b[0m, in \u001b[0;36mcopystat\u001b[1;34m(src, dst, follow_symlinks)\u001b[0m\n\u001b[0;32m    382\u001b[0m     st \u001b[38;5;241m=\u001b[39m lookup(\u001b[38;5;124m\"\u001b[39m\u001b[38;5;124mstat\u001b[39m\u001b[38;5;124m\"\u001b[39m)(src, follow_symlinks\u001b[38;5;241m=\u001b[39mfollow)\n\u001b[0;32m    383\u001b[0m mode \u001b[38;5;241m=\u001b[39m stat\u001b[38;5;241m.\u001b[39mS_IMODE(st\u001b[38;5;241m.\u001b[39mst_mode)\n\u001b[1;32m--> 384\u001b[0m \u001b[43mlookup\u001b[49m\u001b[43m(\u001b[49m\u001b[38;5;124;43m\"\u001b[39;49m\u001b[38;5;124;43mutime\u001b[39;49m\u001b[38;5;124;43m\"\u001b[39;49m\u001b[43m)\u001b[49m\u001b[43m(\u001b[49m\u001b[43mdst\u001b[49m\u001b[43m,\u001b[49m\u001b[43m \u001b[49m\u001b[43mns\u001b[49m\u001b[38;5;241;43m=\u001b[39;49m\u001b[43m(\u001b[49m\u001b[43mst\u001b[49m\u001b[38;5;241;43m.\u001b[39;49m\u001b[43mst_atime_ns\u001b[49m\u001b[43m,\u001b[49m\u001b[43m \u001b[49m\u001b[43mst\u001b[49m\u001b[38;5;241;43m.\u001b[39;49m\u001b[43mst_mtime_ns\u001b[49m\u001b[43m)\u001b[49m\u001b[43m,\u001b[49m\n\u001b[0;32m    385\u001b[0m \u001b[43m    \u001b[49m\u001b[43mfollow_symlinks\u001b[49m\u001b[38;5;241;43m=\u001b[39;49m\u001b[43mfollow\u001b[49m\u001b[43m)\u001b[49m\n\u001b[0;32m    386\u001b[0m \u001b[38;5;66;03m# We must copy extended attributes before the file is (potentially)\u001b[39;00m\n\u001b[0;32m    387\u001b[0m \u001b[38;5;66;03m# chmod()'ed read-only, otherwise setxattr() will error with -EACCES.\u001b[39;00m\n\u001b[0;32m    388\u001b[0m _copyxattr(src, dst, follow_symlinks\u001b[38;5;241m=\u001b[39mfollow)\n",
      "\u001b[1;31mFileNotFoundError\u001b[0m: [WinError 2] The system cannot find the file specified: 'files/train/A319/1879116.jpg'"
     ]
    }
   ],
   "source": [
    "split_dir_to_train_test_val(directory=data_dir,\n",
    "                            train_size=0.7,\n",
    "                            test_size=0.2,\n",
    "                            val_size=0.1)"
   ]
  },
  {
   "cell_type": "code",
   "execution_count": null,
   "metadata": {},
   "outputs": [],
   "source": [
    "class_names = get_class_names_from_folder(directory=\"files/train/\")\n",
    "class_names"
   ]
  },
  {
   "cell_type": "code",
   "execution_count": null,
   "metadata": {},
   "outputs": [],
   "source": [
    "len(class_names)"
   ]
  },
  {
   "cell_type": "markdown",
   "metadata": {},
   "source": [
    "Data Parsing"
   ]
  },
  {
   "cell_type": "code",
   "execution_count": null,
   "metadata": {},
   "outputs": [],
   "source": [
    "# Making CSV in format image_name, class, label where label is the index of the class\n",
    "import pandas as pd\n",
    "import os\n",
    "\n",
    "def make_csv_from_folder(directory, class_names, name):\n",
    "    data_dir = os.path.join(directory)\n",
    "    data = []\n",
    "    for root, folders, files in os.walk(data_dir):\n",
    "        for folder in folders:\n",
    "            for file in os.listdir(root+folder+\"/\"):\n",
    "                data.append([file, folder, class_names.tolist().index(folder)])\n",
    "    df = pd.DataFrame(data, columns=[\"image_name\", \"class\", \"label\"])\n",
    "    df.to_csv(\"{directory}{folder_name}_data.csv\".format(directory=\"files/\", folder_name=name), index=False)\n",
    "    print(\"CSV created at {directory}{folder_name}_data.csv\".format(directory=\"files/\", folder_name=name))\n",
    "\n",
    "make_csv_from_folder(directory=\"files/train/\", class_names=class_names, name=\"train\")\n",
    "make_csv_from_folder(directory=\"files/test/\", class_names=class_names, name=\"test\")\n",
    "make_csv_from_folder(directory=\"files/validation/\", class_names=class_names, name=\"validation\")"
   ]
  },
  {
   "cell_type": "code",
   "execution_count": null,
   "metadata": {},
   "outputs": [],
   "source": [
    "def zip_files(directory):\n",
    "  \"\"\"\n",
    "  Zips the files\n",
    "  \"\"\"\n",
    "  import shutil\n",
    "  shutil.make_archive(directory, 'zip', directory)\n",
    "\n",
    "zip_files(\"files\")"
   ]
  },
  {
   "cell_type": "code",
   "execution_count": null,
   "metadata": {},
   "outputs": [],
   "source": [
    "# Delete files directory\n",
    "import shutil\n",
    "shutil.rmtree(\"files\")"
   ]
  }
 ],
 "metadata": {
  "kernelspec": {
   "display_name": "Python 3",
   "language": "python",
   "name": "python3"
  },
  "language_info": {
   "codemirror_mode": {
    "name": "ipython",
    "version": 3
   },
   "file_extension": ".py",
   "mimetype": "text/x-python",
   "name": "python",
   "nbconvert_exporter": "python",
   "pygments_lexer": "ipython3",
   "version": "3.9.18"
  }
 },
 "nbformat": 4,
 "nbformat_minor": 2
}
